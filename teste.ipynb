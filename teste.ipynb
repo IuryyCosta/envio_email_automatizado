{
 "cells": [
  {
   "cell_type": "code",
   "execution_count": 1,
   "metadata": {},
   "outputs": [],
   "source": [
    "# Install the oracledb module\n",
    "\n",
    "# Load environment variables from .env file\n",
    "import oracledb\n",
    "import os\n",
    "import io\n",
    "import pandas as pd\n",
    "from dotenv import load_dotenv \n",
    "from app.sql.querys import GET_ERROS_ATENDIMENTO , GET_QUERY_MAIN , GET_QUERY_SUCESSOS_ERROS\n",
    "from app.utils.redenrizar_email import TemplateEmail\n",
    "from app.utils.consultar_query import Query\n",
    "from app.core.send_emails import SendEmail\n"
   ]
  },
  {
   "cell_type": "code",
   "execution_count": 14,
   "metadata": {},
   "outputs": [
    {
     "name": "stdout",
     "output_type": "stream",
     "text": [
      "   QT_ERROS                                  Descrição do Erro\n",
      "0         2  Este registro deverá ser importado de forma ma...\n",
      "1         1  Registro de Paciente sem todos os dados obriga...\n",
      "2         1  Existe um procedimento (0416110010 LOBECTOMIA ...\n",
      "3         3  Este registro deverá ser importado de forma ma...\n",
      "4         1  Este registro deverá ser importado de forma ma...\n",
      "5         1  Data da Execução do procedimento 0416010121 (0...\n"
     ]
    }
   ],
   "source": [
    "query = Query()\n",
    "\n",
    "df_erros = query.execute_query(GET_ERROS_ATENDIMENTO)\n",
    "\n",
    "df_erros = df_erros.rename(columns={\n",
    "     \"DS_ERRO_COUNT \":\"Qtd de Erros\",\n",
    "      \"DS_ERRO\": \"Descrição do Erro\"\n",
    "})\n",
    "\n",
    "\n",
    "print(df_erros)\n"
   ]
  },
  {
   "cell_type": "code",
   "execution_count": 3,
   "metadata": {},
   "outputs": [
    {
     "name": "stdout",
     "output_type": "stream",
     "text": [
      "   SUCESSO  ERROS\n",
      "0        5      7\n"
     ]
    }
   ],
   "source": [
    "#df_query_main = query.execute_query(GET_QUERY_MAIN)\n",
    "df_query_sucesso_erro = query.execute_query(GET_QUERY_SUCESSOS_ERROS)\n",
    "\n",
    "#print(df_query_main)\n",
    "print(df_query_sucesso_erro)"
   ]
  },
  {
   "cell_type": "code",
   "execution_count": 15,
   "metadata": {},
   "outputs": [
    {
     "name": "stdout",
     "output_type": "stream",
     "text": [
      "   TOTAL_LEGADO  TOTAL_API  DIFERENCA\n",
      "0            12         12          0\n"
     ]
    }
   ],
   "source": [
    "df_query_main = query.execute_query(GET_QUERY_MAIN)\n",
    "print(df_query_main)"
   ]
  },
  {
   "cell_type": "code",
   "execution_count": 5,
   "metadata": {},
   "outputs": [
    {
     "name": "stdout",
     "output_type": "stream",
     "text": [
      "📁 Template está procurando em: c:\\Users\\Iury\\Desktop\\my-python-api\\app\\templates\n",
      "✅ Prévia do e-mail salva em: c:\\Users\\Iury\\Desktop\\my-python-api\\app\\utils\\..\\output\\email_preview.html\n"
     ]
    }
   ],
   "source": [
    "template_email = TemplateEmail()\n",
    "html_email = template_email.gerar_html_email(df_query_main, df_query_sucesso_erro, df_erros)"
   ]
  },
  {
   "cell_type": "code",
   "execution_count": 12,
   "metadata": {},
   "outputs": [],
   "source": [
    "def enviar_email_com_relatorio():\n",
    "    # 🔹 Gerar HTML do template\n",
    "    template_email = TemplateEmail()\n",
    "    query = Query()\n",
    "\n",
    "    df_diferenca = query.execute_query(GET_QUERY_MAIN)\n",
    "    df_sucesso_erro = query.execute_query(GET_QUERY_SUCESSOS_ERROS)\n",
    "    df_erros = query.execute_query(GET_ERROS_ATENDIMENTO)\n",
    "\n",
    "       # 🔍 Verificação de segurança\n",
    "    if df_diferenca is None or df_sucesso_erro is None or df_erros is None:\n",
    "        print(\"❌ Um ou mais DataFrames retornaram None. Verifique as queries.\")\n",
    "        return\n",
    "    \n",
    "    html_email = template_email.gerar_html_email(\n",
    "        dados_erros=df_erros,\n",
    "        dados_qtd=df_sucesso_erro,\n",
    "        dados_diferenca=df_diferenca\n",
    "    )\n",
    "\n",
    "    # 🔹 Criar Excel em memória\n",
    "    excel_buffer = io.BytesIO()\n",
    "    with pd.ExcelWriter(excel_buffer, engine=\"openpyxl\") as writer:\n",
    "        df_erros.to_excel(writer, index=False, sheet_name=\"Erros\")\n",
    "        df_sucesso_erro.to_excel(writer, index=False, sheet_name=\"Sucesso_vs_Erros\")\n",
    "        df_diferenca.to_excel(writer, index=False, sheet_name=\"Diferencas\")\n",
    "\n",
    "    excel_buffer.seek(0)\n",
    "    arquivos = {\n",
    "        \"relatorio_integracao.xlsx\": excel_buffer\n",
    "    }\n",
    "\n",
    "    # 🔹 Enviar o e-mail com sua classe\n",
    "    email_sender = SendEmail()\n",
    "    email_sender.assunto = \"📊 Relatório de Integração - Atendimento\"\n",
    "    email_sender.destinatarios = [email_sender.email_to]  # ou outro(s)\n",
    "    \n",
    "    resultado = email_sender.enviar_email(mensagem=html_email, arquivos=arquivos)\n",
    "    print(resultado)"
   ]
  },
  {
   "cell_type": "code",
   "execution_count": 13,
   "metadata": {},
   "outputs": [
    {
     "name": "stdout",
     "output_type": "stream",
     "text": [
      "📁 Template está procurando em: c:\\Users\\Iury\\Desktop\\my-python-api\\app\\templates\n"
     ]
    },
    {
     "name": "stderr",
     "output_type": "stream",
     "text": [
      "2025-04-07 14:25:42,907 - INFO - Anexo adicionado: relatorio_integracao.xlsx\n"
     ]
    },
    {
     "name": "stdout",
     "output_type": "stream",
     "text": [
      "✅ Prévia do e-mail salva em: c:\\Users\\Iury\\Desktop\\my-python-api\\app\\utils\\..\\output\\email_preview.html\n"
     ]
    },
    {
     "name": "stderr",
     "output_type": "stream",
     "text": [
      "2025-04-07 14:25:44,053 - INFO - E-mail enviado com sucesso para ['suporte@inovemed.com.br']!\n"
     ]
    },
    {
     "name": "stdout",
     "output_type": "stream",
     "text": [
      "{'message': 'Email sent successfully'}\n"
     ]
    }
   ],
   "source": [
    "enviar_email_com_relatorio()"
   ]
  }
 ],
 "metadata": {
  "kernelspec": {
   "display_name": "venv",
   "language": "python",
   "name": "python3"
  },
  "language_info": {
   "codemirror_mode": {
    "name": "ipython",
    "version": 3
   },
   "file_extension": ".py",
   "mimetype": "text/x-python",
   "name": "python",
   "nbconvert_exporter": "python",
   "pygments_lexer": "ipython3",
   "version": "3.11.6"
  }
 },
 "nbformat": 4,
 "nbformat_minor": 2
}
